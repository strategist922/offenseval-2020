{
 "cells": [
  {
   "cell_type": "markdown",
   "metadata": {},
   "source": [
    "Misspellings of curse words?  \n",
    "\n",
    "When building vocab, consider punctuation. Tokenize it first? Right now it just splits on whitespace. Moses probably has something for this"
   ]
  },
  {
   "cell_type": "code",
   "execution_count": 7,
   "metadata": {},
   "outputs": [],
   "source": [
    "from time import time\n",
    "\n",
    "import numpy as np\n",
    "from scipy.sparse import csr_matrix\n",
    "\n",
    "np.random.seed(1234) # help reproducibility"
   ]
  },
  {
   "cell_type": "code",
   "execution_count": 8,
   "metadata": {},
   "outputs": [],
   "source": [
    "# y == 0 if not offensive\n",
    "# y == 1 if offensive\n",
    "with open('data/OLIDv1.0/olid-training-v1.0.tsv') as f:\n",
    "    raw = [x.strip().split('\\t') for x in f.readlines()[1:]]\n",
    "    x_raw = [r[1] for r in raw]\n",
    "    y = np.array([0 if r[2] == 'NOT' else 1 for r in raw])"
   ]
  },
  {
   "cell_type": "code",
   "execution_count": 9,
   "metadata": {},
   "outputs": [],
   "source": [
    "# Build vocab\n",
    "id2word = {}\n",
    "word2id = {}\n",
    "i = 0 # index of unique word\n",
    "for tweet in x_raw:\n",
    "    for word in tweet.split():\n",
    "        if word not in word2id:\n",
    "            word2id[word] = i\n",
    "            id2word[i] = word\n",
    "            i += 1\n",
    "\n",
    "# Build bag of words\n",
    "data = []\n",
    "rows = []\n",
    "cols = []\n",
    "for i in range(len(x_raw)):\n",
    "    counts = {}\n",
    "    for word in x[i].split():\n",
    "        if word2id[word] not in counts:\n",
    "            counts[word2id[word]] = 1\n",
    "        else:\n",
    "            counts[word2id[word]] += 1\n",
    "            \n",
    "    for word_id, freq in counts.items():\n",
    "        data.append(freq)\n",
    "        rows.append(i)\n",
    "        cols.append(word_id)\n",
    "        \n",
    "    # bias\n",
    "    data.append(1)\n",
    "    rows.append(i)\n",
    "    cols.append(len(word2id))\n",
    "        \n",
    "x = csr_matrix((data, (rows, cols)))"
   ]
  },
  {
   "cell_type": "code",
   "execution_count": 10,
   "metadata": {},
   "outputs": [],
   "source": [
    "# Shuffle x and y together\n",
    "state = np.random.get_state()\n",
    "i = np.arange(x.shape[0])\n",
    "np.random.shuffle(i)\n",
    "x =  x[i, :] # shuffling a sparse matrix is weird\n",
    "np.random.set_state(state)\n",
    "np.random.shuffle(y)"
   ]
  },
  {
   "cell_type": "code",
   "execution_count": 11,
   "metadata": {},
   "outputs": [],
   "source": [
    "def sigmoid(x):\n",
    "    s = np.zeros(x.shape)\n",
    "    s[x > 0] = 1. / (1. + np.exp(-x[x > 0])) # avoid overflow\n",
    "    s[x <= 0] = np.exp(x[x <= 0]) / (np.exp(x[x <= 0]) + 1) # avoid underflow\n",
    "    return s\n",
    "\n",
    "def cost(w, x, y):\n",
    "    \"\"\" The cost function for logistic regression \"\"\"\n",
    "    h = sigmoid(x @ w)\n",
    "    cost = np.average(-y * np.log(h) - (1 - y) * np.log(1 - h))\n",
    "    return cost\n",
    "\n",
    "def gradient_update(w, x, y):\n",
    "    \"\"\" The gradient update for logistic regression\"\"\"\n",
    "    h = sigmoid(x @ w)\n",
    "    g = (h - y) @ x\n",
    "    g = g / x.shape[0] \n",
    "    return g\n",
    "\n",
    "def gradient_descent(w, x, y, alpha, iterations, print_iterations):\n",
    "    \"\"\" Batch gradient descent algorithm \"\"\"\n",
    "    alpha *= x.shape[0]\n",
    "    for i in range(iterations):\n",
    "        if i % print_iterations == 0:\n",
    "            print('%d) cost: %f' % (i, cost(w, x, y)))\n",
    "        w -= alpha * gradient_update(w, x, y)       \n",
    "    return w\n",
    "\n",
    "def predict(w, x):\n",
    "    \"\"\" Predict whether the label is 0 or 1 using learned logistic regression parameters \"\"\"\n",
    "    h = x @ w\n",
    "    probabilities = sigmoid(h)\n",
    "    predicted = 1 * (h > 0) # converts truth values to 1 or 0\n",
    "    return probabilities, 1 * predicted"
   ]
  },
  {
   "cell_type": "code",
   "execution_count": 24,
   "metadata": {},
   "outputs": [
    {
     "name": "stdout",
     "output_type": "stream",
     "text": [
      "0) cost: 0.944414\n",
      "1000) cost: 0.507481\n",
      "2000) cost: 0.434892\n",
      "3000) cost: 0.389039\n",
      "4000) cost: 0.355499\n",
      "5000) cost: 0.329135\n",
      "6000) cost: 0.307490\n",
      "7000) cost: 0.289180\n",
      "8000) cost: 0.273353\n",
      "9000) cost: 0.259472\n"
     ]
    }
   ],
   "source": [
    "initial_w = np.random.rand(x.shape[1]) - 0.5\n",
    "alpha = 0.00005\n",
    "iterations = 10000\n",
    "print_iterations = 1000\n",
    "start = time()\n",
    "w = gradient_descent(initial_w, x, y, alpha, iterations, print_iterations)\n",
    "print('took %.2fs' % (time() - start))"
   ]
  },
  {
   "cell_type": "code",
   "execution_count": 26,
   "metadata": {},
   "outputs": [
    {
     "name": "stdout",
     "output_type": "stream",
     "text": [
      "accuracy: 92.5982%\n"
     ]
    }
   ],
   "source": [
    "prob, labels = predict(w, x)\n",
    "acc = labels[np.where(labels == y)].size / float(y.size) * 100\n",
    "print('accuracy: %.4f%%' % acc)"
   ]
  },
  {
   "cell_type": "code",
   "execution_count": 21,
   "metadata": {},
   "outputs": [
    {
     "name": "stdout",
     "output_type": "stream",
     "text": [
      "(10592, 39451)\n",
      "0) cost: 0.933707\n",
      "accuracy: 13.7840%\n",
      "took 3.32s\n",
      "(2648, 39451)\n",
      "(7944, 39451)\n"
     ]
    },
    {
     "ename": "ValueError",
     "evalue": "zero-dimensional arrays cannot be concatenated",
     "output_type": "error",
     "traceback": [
      "\u001b[0;31m---------------------------------------------------------------------------\u001b[0m",
      "\u001b[0;31mValueError\u001b[0m                                Traceback (most recent call last)",
      "\u001b[0;32m<ipython-input-21-c42f5c6a21bb>\u001b[0m in \u001b[0;36m<module>\u001b[0;34m\u001b[0m\n\u001b[1;32m     12\u001b[0m         \u001b[0mprint\u001b[0m\u001b[0;34m(\u001b[0m\u001b[0mx\u001b[0m\u001b[0;34m[\u001b[0m\u001b[0;34m:\u001b[0m\u001b[0mi\u001b[0m \u001b[0;34m*\u001b[0m \u001b[0mchunk_size\u001b[0m\u001b[0;34m]\u001b[0m\u001b[0;34m.\u001b[0m\u001b[0mshape\u001b[0m\u001b[0;34m)\u001b[0m\u001b[0;34m\u001b[0m\u001b[0;34m\u001b[0m\u001b[0m\n\u001b[1;32m     13\u001b[0m         \u001b[0mprint\u001b[0m\u001b[0;34m(\u001b[0m\u001b[0mx\u001b[0m\u001b[0;34m[\u001b[0m\u001b[0;34m(\u001b[0m\u001b[0mi\u001b[0m \u001b[0;34m+\u001b[0m \u001b[0;36m1\u001b[0m\u001b[0;34m)\u001b[0m \u001b[0;34m*\u001b[0m \u001b[0mchunk_size\u001b[0m\u001b[0;34m:\u001b[0m\u001b[0;34m]\u001b[0m\u001b[0;34m.\u001b[0m\u001b[0mshape\u001b[0m\u001b[0;34m)\u001b[0m\u001b[0;34m\u001b[0m\u001b[0;34m\u001b[0m\u001b[0m\n\u001b[0;32m---> 14\u001b[0;31m         \u001b[0mx_train\u001b[0m \u001b[0;34m=\u001b[0m \u001b[0mnp\u001b[0m\u001b[0;34m.\u001b[0m\u001b[0mconcatenate\u001b[0m\u001b[0;34m(\u001b[0m\u001b[0;34m(\u001b[0m\u001b[0mx\u001b[0m\u001b[0;34m[\u001b[0m\u001b[0;34m:\u001b[0m\u001b[0mi\u001b[0m \u001b[0;34m*\u001b[0m \u001b[0mchunk_size\u001b[0m\u001b[0;34m]\u001b[0m\u001b[0;34m,\u001b[0m \u001b[0mx\u001b[0m\u001b[0;34m[\u001b[0m\u001b[0;34m(\u001b[0m\u001b[0mi\u001b[0m \u001b[0;34m+\u001b[0m \u001b[0;36m1\u001b[0m\u001b[0;34m)\u001b[0m \u001b[0;34m*\u001b[0m \u001b[0mchunk_size\u001b[0m\u001b[0;34m:\u001b[0m\u001b[0;34m]\u001b[0m\u001b[0;34m)\u001b[0m\u001b[0;34m,\u001b[0m \u001b[0maxis\u001b[0m\u001b[0;34m=\u001b[0m\u001b[0;36m1\u001b[0m\u001b[0;34m)\u001b[0m\u001b[0;34m\u001b[0m\u001b[0;34m\u001b[0m\u001b[0m\n\u001b[0m\u001b[1;32m     15\u001b[0m     \u001b[0;32melse\u001b[0m\u001b[0;34m:\u001b[0m\u001b[0;34m\u001b[0m\u001b[0;34m\u001b[0m\u001b[0m\n\u001b[1;32m     16\u001b[0m         \u001b[0mx_train\u001b[0m \u001b[0;34m=\u001b[0m \u001b[0mx\u001b[0m\u001b[0;34m[\u001b[0m\u001b[0;34m(\u001b[0m\u001b[0mi\u001b[0m \u001b[0;34m+\u001b[0m \u001b[0;36m1\u001b[0m\u001b[0;34m)\u001b[0m \u001b[0;34m*\u001b[0m \u001b[0mchunk_size\u001b[0m\u001b[0;34m:\u001b[0m\u001b[0;34m]\u001b[0m\u001b[0;34m\u001b[0m\u001b[0;34m\u001b[0m\u001b[0m\n",
      "\u001b[0;31mValueError\u001b[0m: zero-dimensional arrays cannot be concatenated"
     ]
    }
   ],
   "source": [
    "# k-fold cross validation\n",
    "k = 5\n",
    "chunk_size = x.shape[0] // k\n",
    "alpha = 0.00005\n",
    "iterations = 1000\n",
    "print_iterations = 10000\n",
    "total_acc = 0\n",
    "for i in range(k):\n",
    "    start = time()\n",
    "    initial_w = np.random.rand(x.shape[1]) - 0.5\n",
    "    if i > 0:\n",
    "        print(x[:i * chunk_size].shape)\n",
    "        print(x[(i + 1) * chunk_size:].shape)\n",
    "        x_train = np.concatenate((x[:i * chunk_size], x[(i + 1) * chunk_size:]), axis=1)\n",
    "    else:\n",
    "        x_train = x[(i + 1) * chunk_size:]\n",
    "    print(x_train.shape)\n",
    "    y_train = np.concatenate((y[:i * chunk_size], y[(i + 1) * chunk_size:]))\n",
    "    x_test = x[i * chunk_size:(i + 1) * chunk_size]\n",
    "    y_test = y[i * chunk_size:(i + 1) * chunk_size]\n",
    "    w = gradient_descent(initial_w, x_train, y_train, alpha, iterations, print_iterations)\n",
    "    prob, labels = predict(w, x_test)\n",
    "    acc = labels[np.where(labels == y_test)].size / float(y.size) * 100\n",
    "    total_acc += acc\n",
    "    print('accuracy: %.4f%%' % acc)\n",
    "    print('took %.2fs' % (time() - start))\n",
    "print('avg acc: %.4f%%' % (total_acc / k))"
   ]
  },
  {
   "cell_type": "code",
   "execution_count": null,
   "metadata": {},
   "outputs": [],
   "source": []
  }
 ],
 "metadata": {
  "kernelspec": {
   "display_name": "Python 3",
   "language": "python",
   "name": "python3"
  },
  "language_info": {
   "codemirror_mode": {
    "name": "ipython",
    "version": 3
   },
   "file_extension": ".py",
   "mimetype": "text/x-python",
   "name": "python",
   "nbconvert_exporter": "python",
   "pygments_lexer": "ipython3",
   "version": "3.6.7"
  }
 },
 "nbformat": 4,
 "nbformat_minor": 2
}
