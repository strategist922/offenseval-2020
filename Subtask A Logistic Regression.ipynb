{
 "cells": [
  {
   "cell_type": "markdown",
   "metadata": {},
   "source": [
    "Misspellings of curse words?  \n",
    "\n",
    "When building vocab, consider punctuation. Tokenize it first? Right now it just splits on whitespace. Moses probably has something for this"
   ]
  },
  {
   "cell_type": "code",
   "execution_count": 23,
   "metadata": {},
   "outputs": [],
   "source": [
    "from time import time\n",
    "\n",
    "import numpy as np\n",
    "from scipy.sparse import csr_matrix, vstack\n",
    "\n",
    "np.random.seed(1234) # help reproducibility"
   ]
  },
  {
   "cell_type": "code",
   "execution_count": 8,
   "metadata": {},
   "outputs": [],
   "source": [
    "# y == 0 if not offensive\n",
    "# y == 1 if offensive\n",
    "with open('data/OLIDv1.0/olid-training-v1.0.tsv') as f:\n",
    "    raw = [x.strip().split('\\t') for x in f.readlines()[1:]]\n",
    "    x_raw = [r[1] for r in raw]\n",
    "    y = np.array([0 if r[2] == 'NOT' else 1 for r in raw])"
   ]
  },
  {
   "cell_type": "code",
   "execution_count": 9,
   "metadata": {},
   "outputs": [],
   "source": [
    "# Build vocab\n",
    "id2word = {}\n",
    "word2id = {}\n",
    "i = 0 # index of unique word\n",
    "for tweet in x_raw:\n",
    "    for word in tweet.split():\n",
    "        if word not in word2id:\n",
    "            word2id[word] = i\n",
    "            id2word[i] = word\n",
    "            i += 1\n",
    "\n",
    "# Build bag of words\n",
    "data = []\n",
    "rows = []\n",
    "cols = []\n",
    "for i in range(len(x_raw)):\n",
    "    counts = {}\n",
    "    for word in x[i].split():\n",
    "        if word2id[word] not in counts:\n",
    "            counts[word2id[word]] = 1\n",
    "        else:\n",
    "            counts[word2id[word]] += 1\n",
    "            \n",
    "    for word_id, freq in counts.items():\n",
    "        data.append(freq)\n",
    "        rows.append(i)\n",
    "        cols.append(word_id)\n",
    "        \n",
    "    # bias\n",
    "    data.append(1)\n",
    "    rows.append(i)\n",
    "    cols.append(len(word2id))\n",
    "        \n",
    "x = csr_matrix((data, (rows, cols)))"
   ]
  },
  {
   "cell_type": "code",
   "execution_count": 10,
   "metadata": {},
   "outputs": [],
   "source": [
    "# Shuffle x and y together\n",
    "state = np.random.get_state()\n",
    "i = np.arange(x.shape[0])\n",
    "np.random.shuffle(i)\n",
    "x =  x[i, :] # shuffling a sparse matrix is weird\n",
    "np.random.set_state(state)\n",
    "np.random.shuffle(y)"
   ]
  },
  {
   "cell_type": "code",
   "execution_count": 11,
   "metadata": {},
   "outputs": [],
   "source": [
    "def sigmoid(x):\n",
    "    s = np.zeros(x.shape)\n",
    "    s[x > 0] = 1. / (1. + np.exp(-x[x > 0])) # avoid overflow\n",
    "    s[x <= 0] = np.exp(x[x <= 0]) / (np.exp(x[x <= 0]) + 1) # avoid underflow\n",
    "    return s\n",
    "\n",
    "def cost(w, x, y):\n",
    "    \"\"\" The cost function for logistic regression \"\"\"\n",
    "    h = sigmoid(x @ w)\n",
    "    cost = np.average(-y * np.log(h) - (1 - y) * np.log(1 - h))\n",
    "    return cost\n",
    "\n",
    "def gradient_update(w, x, y):\n",
    "    \"\"\" The gradient update for logistic regression\"\"\"\n",
    "    h = sigmoid(x @ w)\n",
    "    g = (h - y) @ x\n",
    "    g = g / x.shape[0] \n",
    "    return g\n",
    "\n",
    "def gradient_descent(w, x, y, alpha, iterations, print_iterations):\n",
    "    \"\"\" Batch gradient descent algorithm \"\"\"\n",
    "    alpha *= x.shape[0]\n",
    "    for i in range(iterations):\n",
    "        if i % print_iterations == 0:\n",
    "            print('%d) cost: %f' % (i, cost(w, x, y)))\n",
    "        w -= alpha * gradient_update(w, x, y)       \n",
    "    return w\n",
    "\n",
    "def predict(w, x):\n",
    "    \"\"\" Predict whether the label is 0 or 1 using learned logistic regression parameters \"\"\"\n",
    "    h = x @ w\n",
    "    probabilities = sigmoid(h)\n",
    "    predicted = 1 * (h > 0) # converts truth values to 1 or 0\n",
    "    return probabilities, 1 * predicted"
   ]
  },
  {
   "cell_type": "code",
   "execution_count": 24,
   "metadata": {},
   "outputs": [
    {
     "name": "stdout",
     "output_type": "stream",
     "text": [
      "0) cost: 0.944414\n",
      "1000) cost: 0.507481\n",
      "2000) cost: 0.434892\n",
      "3000) cost: 0.389039\n",
      "4000) cost: 0.355499\n",
      "5000) cost: 0.329135\n",
      "6000) cost: 0.307490\n",
      "7000) cost: 0.289180\n",
      "8000) cost: 0.273353\n",
      "9000) cost: 0.259472\n"
     ]
    }
   ],
   "source": [
    "initial_w = np.random.rand(x.shape[1]) - 0.5\n",
    "alpha = 0.00005\n",
    "iterations = 10000\n",
    "print_iterations = 1000\n",
    "start = time()\n",
    "w = gradient_descent(initial_w, x, y, alpha, iterations, print_iterations)\n",
    "print('took %.2fs' % (time() - start))"
   ]
  },
  {
   "cell_type": "code",
   "execution_count": 26,
   "metadata": {},
   "outputs": [
    {
     "name": "stdout",
     "output_type": "stream",
     "text": [
      "accuracy: 92.5982%\n"
     ]
    }
   ],
   "source": [
    "prob, labels = predict(w, x)\n",
    "acc = labels[np.where(labels == y)].size / float(y.size) * 100\n",
    "print('accuracy: %.4f%%' % acc)"
   ]
  },
  {
   "cell_type": "code",
   "execution_count": 26,
   "metadata": {},
   "outputs": [
    {
     "name": "stdout",
     "output_type": "stream",
     "text": [
      "0) cost: 0.898328\n",
      "1000) cost: 0.513092\n",
      "2000) cost: 0.438068\n",
      "3000) cost: 0.390530\n",
      "4000) cost: 0.355756\n",
      "5000) cost: 0.328487\n",
      "6000) cost: 0.306193\n",
      "7000) cost: 0.287442\n",
      "8000) cost: 0.271343\n",
      "9000) cost: 0.257299\n",
      "train acc: 92.6832%\n",
      "val acc: 72.9985%\n",
      "took 24.80s\n",
      "0) cost: 0.824515\n",
      "1000) cost: 0.514268\n",
      "2000) cost: 0.437343\n",
      "3000) cost: 0.388827\n",
      "4000) cost: 0.353596\n",
      "5000) cost: 0.326172\n",
      "6000) cost: 0.303820\n",
      "7000) cost: 0.285059\n",
      "8000) cost: 0.268970\n",
      "9000) cost: 0.254944\n",
      "train acc: 92.9097%\n",
      "val acc: 72.0166%\n",
      "took 24.57s\n",
      "0) cost: 0.892208\n",
      "1000) cost: 0.514598\n",
      "2000) cost: 0.438955\n",
      "3000) cost: 0.390718\n",
      "4000) cost: 0.355583\n",
      "5000) cost: 0.328360\n",
      "6000) cost: 0.306113\n",
      "7000) cost: 0.287403\n",
      "8000) cost: 0.271333\n",
      "9000) cost: 0.257309\n",
      "train acc: 92.8531%\n",
      "val acc: 74.6601%\n",
      "took 25.49s\n",
      "0) cost: 0.972615\n",
      "1000) cost: 0.510333\n",
      "2000) cost: 0.435265\n",
      "3000) cost: 0.388068\n",
      "4000) cost: 0.353770\n",
      "5000) cost: 0.326836\n",
      "6000) cost: 0.304770\n",
      "7000) cost: 0.286169\n",
      "8000) cost: 0.270160\n",
      "9000) cost: 0.256164\n",
      "train acc: 92.7209%\n",
      "val acc: 71.8278%\n",
      "took 25.18s\n",
      "0) cost: 1.437572\n",
      "1000) cost: 0.513366\n",
      "2000) cost: 0.437152\n",
      "3000) cost: 0.388954\n",
      "4000) cost: 0.353740\n",
      "5000) cost: 0.326165\n",
      "6000) cost: 0.303646\n",
      "7000) cost: 0.284723\n",
      "8000) cost: 0.268487\n",
      "9000) cost: 0.254335\n",
      "train acc: 92.7870%\n",
      "val acc: 71.8278%\n",
      "took 25.72s\n",
      "avg acc: 72.6662%\n"
     ]
    }
   ],
   "source": [
    "# k-fold cross validation\n",
    "k = 5\n",
    "chunk_size = x.shape[0] // k\n",
    "alpha = 0.00005\n",
    "iterations = 10000\n",
    "print_iterations = 1000\n",
    "total_acc = 0\n",
    "for i in range(k):\n",
    "    start = time()\n",
    "    initial_w = np.random.rand(x.shape[1]) - 0.5\n",
    "    x_train = vstack((x[:i * chunk_size], x[(i + 1) * chunk_size:]))\n",
    "    y_train = np.concatenate((y[:i * chunk_size], y[(i + 1) * chunk_size:]))\n",
    "    x_val = x[i * chunk_size:(i + 1) * chunk_size]\n",
    "    y_val = y[i * chunk_size:(i + 1) * chunk_size]\n",
    "    w = gradient_descent(initial_w.copy(), x_train, y_train, alpha, iterations, print_iterations)\n",
    "    _, labels = predict(w, x_train)\n",
    "    train_acc = labels[np.where(labels == y_train)].size / float(y_train.size) * 100\n",
    "    print('train acc: %.4f%%' % train_acc)\n",
    "    _, labels = predict(w, x_val)\n",
    "    val_acc = labels[np.where(labels == y_val)].size / float(y_val.size) * 100\n",
    "    total_acc += val_acc\n",
    "    print('val acc: %.4f%%' % val_acc)\n",
    "    print('took %.2fs' % (time() - start))\n",
    "print('avg acc: %.4f%%' % (total_acc / k))"
   ]
  },
  {
   "cell_type": "code",
   "execution_count": null,
   "metadata": {},
   "outputs": [],
   "source": []
  }
 ],
 "metadata": {
  "kernelspec": {
   "display_name": "Python 3",
   "language": "python",
   "name": "python3"
  },
  "language_info": {
   "codemirror_mode": {
    "name": "ipython",
    "version": 3
   },
   "file_extension": ".py",
   "mimetype": "text/x-python",
   "name": "python",
   "nbconvert_exporter": "python",
   "pygments_lexer": "ipython3",
   "version": "3.6.7"
  }
 },
 "nbformat": 4,
 "nbformat_minor": 2
}
