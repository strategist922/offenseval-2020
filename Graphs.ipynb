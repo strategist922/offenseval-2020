{
 "cells": [
  {
   "cell_type": "code",
   "execution_count": 1,
   "metadata": {},
   "outputs": [],
   "source": [
    "import csv\n",
    "from time import time\n",
    "\n",
    "import numpy as np\n",
    "\n",
    "training_data = 'data/OLIDv1.0/olid-training-v1.0.tsv'\n",
    "test_data = 'data/OLIDv1.0/testset-levela.tsv'\n",
    "test_labels = 'data/OLIDv1.0/labels-levela.csv'\n",
    "hashtags = 'data/olid_segmentations.tsv'"
   ]
  },
  {
   "cell_type": "code",
   "execution_count": 2,
   "metadata": {},
   "outputs": [
    {
     "name": "stdout",
     "output_type": "stream",
     "text": [
      "Loaded data in 0.13s\n"
     ]
    }
   ],
   "source": [
    "start = time()\n",
    "with open(training_data, encoding='utf-8') as f:\n",
    "    raw = csv.reader(f, delimiter='\\t')\n",
    "    x_train_raw = []\n",
    "    y_train = []\n",
    "    for r in raw:\n",
    "        x_train_raw.append(r[1])\n",
    "        y_train.append(0 if r[2] == 'NOT' else 1)\n",
    "    x_train_raw = x_train_raw[1:]\n",
    "    y_train = y_train[1:]\n",
    "    \n",
    "with open(test_data, encoding='utf-8') as f:\n",
    "    raw = csv.reader(f, delimiter='\\t')\n",
    "    test_ids = []\n",
    "    x_test_raw = []\n",
    "    for r in raw:\n",
    "        test_ids.append(r[0])\n",
    "        x_test_raw.append(r[1])\n",
    "    test_ids = [int(i) for i in test_ids[1:]]\n",
    "    x_test_raw = x_test_raw[1:]\n",
    "        \n",
    "with open(test_labels, encoding='utf-8') as f:\n",
    "    raw = csv.reader(f, delimiter=',')\n",
    "    y_test = []\n",
    "    for r in raw:\n",
    "        y_test.append(0 if r[1] == 'NOT' else 1)\n",
    "    \n",
    "segmentations = {}\n",
    "for line in open(hashtags, encoding='utf-8'):\n",
    "    terms = [x.strip().lower() for x in line.split('\\t')]\n",
    "    hashtag, segmentation = terms[0], terms[1]\n",
    "    segmentations[hashtag] = segmentation\n",
    "    \n",
    "print('Loaded data in %.2fs' % (time() - start))"
   ]
  },
  {
   "cell_type": "code",
   "execution_count": 7,
   "metadata": {},
   "outputs": [
    {
     "name": "stdout",
     "output_type": "stream",
     "text": [
      "0.7941860465116279\n"
     ]
    }
   ],
   "source": []
  },
  {
   "cell_type": "code",
   "execution_count": null,
   "metadata": {},
   "outputs": [],
   "source": []
  }
 ],
 "metadata": {
  "kernelspec": {
   "display_name": "Python 3",
   "language": "python",
   "name": "python3"
  },
  "language_info": {
   "codemirror_mode": {
    "name": "ipython",
    "version": 3
   },
   "file_extension": ".py",
   "mimetype": "text/x-python",
   "name": "python",
   "nbconvert_exporter": "python",
   "pygments_lexer": "ipython3",
   "version": "3.6.7"
  }
 },
 "nbformat": 4,
 "nbformat_minor": 2
}
