{
 "cells": [
  {
   "cell_type": "markdown",
   "metadata": {},
   "source": [
    "Misspellings of curse words?  \n",
    "\n",
    "When building vocab, consider punctuation. Tokenize it first? Right now it just splits on whitespace. Moses probably has something for this"
   ]
  },
  {
   "cell_type": "code",
   "execution_count": 7,
   "metadata": {},
   "outputs": [],
   "source": [
    "from time import time\n",
    "import csv\n",
    "import numpy as np\n",
    "from scipy.sparse import csr_matrix, vstack\n",
    "data = 'data/kaggle/train.csv'\n",
    "np.random.seed(1234) # help reproducibility"
   ]
  },
  {
   "cell_type": "code",
   "execution_count": 8,
   "metadata": {},
   "outputs": [
    {
     "name": "stdout",
     "output_type": "stream",
     "text": [
      "CPU times: user 0 ns, sys: 0 ns, total: 0 ns\n",
      "Wall time: 37.2 µs\n"
     ]
    }
   ],
   "source": [
    "# y == 0 if not offensive\n",
    "# y == 1 if offensive\n",
    "%time\n",
    "with open(data) as f:\n",
    "    raw = csv.reader(f, delimiter=',')\n",
    "    x_raw = []\n",
    "    y = []\n",
    "    for r in raw:\n",
    "        x_raw.append(r[1])\n",
    "        y.append(0 if all(x == '0' for x in r[2:]) else 1)\n",
    "    \n",
    "y = np.array(y)\n",
    "    "
   ]
  },
  {
   "cell_type": "code",
   "execution_count": 9,
   "metadata": {},
   "outputs": [],
   "source": [
    "# Build vocab\n",
    "\n",
    "\n",
    "id2word = {}\n",
    "word2id = {}\n",
    "i = 0 # index of unique word\n",
    "for tweet in x_raw:\n",
    "    for word in tweet.split():\n",
    "        if word not in word2id:\n",
    "            word2id[word] = i\n",
    "            id2word[i] = word\n",
    "            i += 1\n",
    "\n",
    "# Build bag of words\n",
    "data = []\n",
    "rows = []\n",
    "cols = []\n",
    "for i in range(1,len(x_raw)):\n",
    "    counts = {}\n",
    "    for word in x_raw[i].split():\n",
    "        if word2id[word] not in counts:\n",
    "            counts[word2id[word]] = 1\n",
    "        else:\n",
    "            counts[word2id[word]] += 1\n",
    "            \n",
    "    for word_id, freq in counts.items():\n",
    "        data.append(freq)\n",
    "        rows.append(i)\n",
    "        cols.append(word_id)\n",
    "        \n",
    "    # bias\n",
    "    data.append(1)\n",
    "    rows.append(i)\n",
    "    cols.append(len(word2id))\n",
    "        \n",
    "x = csr_matrix((data, (rows, cols)))"
   ]
  },
  {
   "cell_type": "code",
   "execution_count": 10,
   "metadata": {},
   "outputs": [],
   "source": [
    "# Shuffle x and y together\n",
    "state = np.random.get_state()\n",
    "i = np.arange(x.shape[0])\n",
    "np.random.shuffle(i)\n",
    "x =  x[i, :] # shuffling a sparse matrix is weird\n",
    "np.random.set_state(state)\n",
    "np.random.shuffle(y)"
   ]
  },
  {
   "cell_type": "code",
   "execution_count": 14,
   "metadata": {},
   "outputs": [],
   "source": [
    "def sigmoid(x):\n",
    "    s = np.zeros(x.shape)\n",
    "    s[x > 0] = 1. / (1. + np.exp(-x[x > 0])) # avoid overflow\n",
    "    s[x <= 0] = np.exp(x[x <= 0]) / (np.exp(x[x <= 0]) + 1) # avoid underflow\n",
    "    return s\n",
    "\n",
    "def cost(w, x, y):\n",
    "    \"\"\" The cost function for logistic regression \"\"\"\n",
    "    h = sigmoid(x @ w)\n",
    "    print(w)\n",
    "    cost = np.average(-y * np.log(h) - (1 - y) * np.log(1 - h))\n",
    "    return cost\n",
    "\n",
    "def gradient_update(w, x, y):\n",
    "    \"\"\" The gradient update for logistic regression\"\"\"\n",
    "    h = sigmoid(x @ w)\n",
    "    g = (h - y) @ x\n",
    "    \n",
    "    g = g / x.shape[0] \n",
    "    return g\n",
    "\n",
    "def gradient_descent(w, x, y, alpha, iterations, print_iterations):\n",
    "    \"\"\" Batch gradient descent algorithm \"\"\"\n",
    "    alpha *= x.shape[0]\n",
    "    for i in range(iterations):\n",
    "        if i % print_iterations == 0:\n",
    "            print('%d) cost: %f' % (i, cost(w, x, y)))\n",
    "        w -= alpha * gradient_update(w, x, y)       \n",
    "    return w\n",
    "\n",
    "def predict(w, x):\n",
    "    \"\"\" Predict whether the label is 0 or 1 using learned logistic regression parameters \"\"\"\n",
    "    h = x @ w\n",
    "    probabilities = sigmoid(h)\n",
    "    predicted = 1 * (h > 0) # converts truth values to 1 or 0\n",
    "    return probabilities, 1 * predicted"
   ]
  },
  {
   "cell_type": "code",
   "execution_count": 12,
   "metadata": {},
   "outputs": [
    {
     "name": "stdout",
     "output_type": "stream",
     "text": [
      "[0.92707452 0.77144196 0.20949831 ... 0.86670545 0.26233598 0.99999999]\n",
      "0) cost: nan\n"
     ]
    },
    {
     "name": "stderr",
     "output_type": "stream",
     "text": [
      "/home/david/.local/lib/python3.6/site-packages/ipykernel_launcher.py:11: RuntimeWarning: divide by zero encountered in log\n",
      "  # This is added back by InteractiveShellApp.init_path()\n",
      "/home/david/.local/lib/python3.6/site-packages/ipykernel_launcher.py:11: RuntimeWarning: invalid value encountered in multiply\n",
      "  # This is added back by InteractiveShellApp.init_path()\n"
     ]
    },
    {
     "name": "stdout",
     "output_type": "stream",
     "text": [
      "[9.03310046e-73 1.07755271e-06 8.87879633e-27 ... 6.72634937e-33\n",
      " 6.60986381e-05 0.00000000e+00]\n",
      "1) cost: nan\n",
      "[3.45679246e-66 1.36610335e-05 9.16844906e-24 ... 3.32973114e-30\n",
      " 1.97331733e-04 0.00000000e+00]\n",
      "2) cost: nan\n",
      "[1.30710980e-59 1.71419615e-04 9.34466544e-21 ... 1.63144411e-27\n",
      " 5.83133068e-04 0.00000000e+00]\n",
      "3) cost: nan\n",
      "[4.84402646e-53 2.10720149e-03 9.33310513e-18 ... 7.84327374e-25\n",
      " 1.69090901e-03 0.00000000e+00]\n",
      "4) cost: nan\n",
      "[1.72198074e-46 2.44643997e-02 8.94550575e-15 ... 3.63804295e-22\n",
      " 4.73026278e-03 0.00000000e+00]\n",
      "5) cost: nan\n",
      "[4.86180403e-40 2.11429676e-01 7.26391620e-12 ... 1.58237998e-19\n",
      " 1.23996069e-02 0.00000000e+00]\n",
      "6) cost: nan\n",
      "[8.71239914e-34 7.00745680e-01 4.38999672e-09 ... 6.13706967e-17\n",
      " 2.90457157e-02 0.00000000e+00]\n",
      "7) cost: nan\n",
      "[8.52010257e-28 9.38916661e-01 1.60635467e-06 ... 1.88205374e-14\n",
      " 5.70834780e-02 0.00000000e+00]\n",
      "8) cost: nan\n",
      "[2.84690057e-022 9.85406063e-001 2.65563499e-004 ... 3.67244343e-012\n",
      " 8.94508431e-002 1.15206219e-294]\n",
      "9) cost: nan\n",
      "took 4.55s\n"
     ]
    }
   ],
   "source": [
    "initial_w = np.random.rand(x.shape[1]) - 0.5\n",
    "alpha = 0.00005\n",
    "iterations = 10\n",
    "print_iterations = 1\n",
    "start = time()\n",
    "w = gradient_descent(initial_w, x, y, alpha, iterations, print_iterations)\n",
    "print('took %.2fs' % (time() - start))"
   ]
  },
  {
   "cell_type": "code",
   "execution_count": 8,
   "metadata": {},
   "outputs": [
    {
     "name": "stdout",
     "output_type": "stream",
     "text": [
      "accuracy: 92.4924%\n"
     ]
    }
   ],
   "source": [
    "prob, labels = predict(w, x)\n",
    "acc = labels[np.where(labels == y)].size / float(y.size) * 100\n",
    "print('accuracy: %.4f%%' % acc)"
   ]
  },
  {
   "cell_type": "code",
   "execution_count": 9,
   "metadata": {},
   "outputs": [
    {
     "name": "stdout",
     "output_type": "stream",
     "text": [
      "0) cost: 1.399906\n",
      "train acc: 83.1665%\n",
      "val acc: 70.5438%\n",
      "took 2.53s\n",
      "0) cost: 0.921110\n",
      "train acc: 84.9509%\n",
      "val acc: 72.2432%\n",
      "took 2.54s\n",
      "0) cost: 0.982554\n",
      "train acc: 69.9301%\n",
      "val acc: 69.6752%\n",
      "took 2.37s\n",
      "0) cost: 0.827201\n",
      "train acc: 69.7319%\n",
      "val acc: 52.7190%\n",
      "took 2.35s\n",
      "0) cost: 0.951568\n",
      "train acc: 70.3550%\n",
      "val acc: 68.1647%\n",
      "took 2.35s\n",
      "avg acc: 66.6692%\n"
     ]
    }
   ],
   "source": [
    "# k-fold cross validation\n",
    "k = 5\n",
    "chunk_size = x.shape[0] // k\n",
    "alpha = 0.0005\n",
    "iterations = 1000\n",
    "print_iterations = 1000\n",
    "total_acc = 0\n",
    "for i in range(k):\n",
    "    start = time()\n",
    "    initial_w = np.random.rand(x.shape[1]) - 0.5\n",
    "    x_train = vstack((x[:i * chunk_size], x[(i + 1) * chunk_size:]))\n",
    "    y_train = np.concatenate((y[:i * chunk_size], y[(i + 1) * chunk_size:]))\n",
    "    x_val = x[i * chunk_size:(i + 1) * chunk_size]\n",
    "    y_val = y[i * chunk_size:(i + 1) * chunk_size]\n",
    "    w = gradient_descent(initial_w.copy(), x_train, y_train, alpha, iterations, print_iterations)\n",
    "    _, labels = predict(w, x_train)\n",
    "    train_acc = labels[np.where(labels == y_train)].size / float(y_train.size) * 100\n",
    "    print('train acc: %.4f%%' % train_acc)\n",
    "    _, labels = predict(w, x_val)\n",
    "    val_acc = labels[np.where(labels == y_val)].size / float(y_val.size) * 100\n",
    "    total_acc += val_acc\n",
    "    print('val acc: %.4f%%' % val_acc)\n",
    "    print('took %.2fs' % (time() - start))\n",
    "print('avg acc: %.4f%%' % (total_acc / k))"
   ]
  },
  {
   "cell_type": "code",
   "execution_count": null,
   "metadata": {},
   "outputs": [],
   "source": []
  }
 ],
 "metadata": {
  "kernelspec": {
   "display_name": "Python 3",
   "language": "python",
   "name": "python3"
  },
  "language_info": {
   "codemirror_mode": {
    "name": "ipython",
    "version": 3
   },
   "file_extension": ".py",
   "mimetype": "text/x-python",
   "name": "python",
   "nbconvert_exporter": "python",
   "pygments_lexer": "ipython3",
   "version": "3.6.8"
  }
 },
 "nbformat": 4,
 "nbformat_minor": 2
}
