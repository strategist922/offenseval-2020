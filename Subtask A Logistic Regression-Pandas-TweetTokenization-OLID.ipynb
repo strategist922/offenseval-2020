{
 "cells": [
  {
   "cell_type": "markdown",
   "metadata": {},
   "source": [
    "Misspellings of curse words?  \n",
    "\n",
    "When building vocab, consider punctuation. Tokenize it first? Right now it just splits on whitespace. Moses probably has something for this"
   ]
  },
  {
   "cell_type": "code",
   "execution_count": 1,
   "metadata": {},
   "outputs": [],
   "source": [
    "from time import time\n",
    "from nltk.tokenize import TweetTokenizer\n",
    "import numpy as np\n",
    "from scipy.sparse import csr_matrix, vstack\n",
    "import pandas as pd\n",
    "\n",
    "np.random.seed(1234) # help reproducibility"
   ]
  },
  {
   "cell_type": "code",
   "execution_count": 13,
   "metadata": {},
   "outputs": [
    {
     "name": "stdout",
     "output_type": "stream",
     "text": [
      "[['she', 'should', 'ask', 'a', 'few', 'native', 'americans', 'what', 'their', 'take', 'on', 'this', 'is', '.'], ['go', 'home', 'you', '’', 're', 'drunk', '!', '!', '!', '#maga', '#trump2020', '👊', '🇺', '🇸', '👊', 'url'], ['amazon', 'is', 'investigating', 'chinese', 'employees', 'who', 'are', 'selling', 'internal', 'data', 'to', 'third-party', 'sellers', 'looking', 'for', 'an', 'edge', 'in', 'the', 'competitive', 'marketplace', '.', 'url', '#amazon', '#maga', '#kag', '#china', '#tcot'], ['someone', \"should'vetaken\", '\"', 'this', 'piece', 'of', 'shit', 'to', 'a', 'volcano', '.', '😂', '\"'], ['obama', 'wanted', 'liberals', '&', 'illegals', 'to', 'move', 'into', 'red', 'states']]\n"
     ]
    }
   ],
   "source": [
    "tknzr = TweetTokenizer(preserve_case=False, reduce_len=True, strip_handles=True)\n",
    "# read in data using pandas\n",
    "data = pd.read_csv('data/OLIDv1.0/olid-training-v1.0.tsv', '\\t')\n",
    "X_raw = data['tweet'].values\n",
    "X = [tknzr.tokenize(x) for x in X_raw]\n",
    "Y_raw = data['subtask_a'].values\n",
    "y = np.zeros(len(Y_raw))\n",
    "y[np.where(Y_raw == 'OFF')] = 1.\n",
    "print(X[:5])"
   ]
  },
  {
   "cell_type": "code",
   "execution_count": 14,
   "metadata": {},
   "outputs": [],
   "source": [
    "# Build vocab\n",
    "id2word = {}\n",
    "word2id = {}\n",
    "i = 0 # index of unique word\n",
    "for tweet in X:\n",
    "    for word in tweet:\n",
    "        if word not in word2id:\n",
    "            word2id[word] = i\n",
    "            id2word[i] = word\n",
    "            i += 1\n",
    "\n",
    "# Build bag of words\n",
    "data = []\n",
    "rows = []\n",
    "cols = []\n",
    "for i in range(len(X)):\n",
    "    counts = {}\n",
    "    for word in X[i]:\n",
    "        if word2id[word] not in counts:\n",
    "            counts[word2id[word]] = 1\n",
    "        else:\n",
    "            counts[word2id[word]] += 1\n",
    "            \n",
    "    for word_id, freq in counts.items():\n",
    "        data.append(freq)\n",
    "        rows.append(i)\n",
    "        cols.append(word_id)\n",
    "        \n",
    "    # bias\n",
    "    data.append(1)\n",
    "    rows.append(i)\n",
    "    cols.append(len(word2id))\n",
    "        \n",
    "x = csr_matrix((data, (rows, cols)))"
   ]
  },
  {
   "cell_type": "code",
   "execution_count": 15,
   "metadata": {},
   "outputs": [],
   "source": [
    "# Shuffle x and y together\n",
    "state = np.random.get_state()\n",
    "i = np.arange(x.shape[0])\n",
    "np.random.shuffle(i)\n",
    "x =  x[i, :] # shuffling a sparse matrix is weird\n",
    "np.random.set_state(state)\n",
    "np.random.shuffle(y)"
   ]
  },
  {
   "cell_type": "code",
   "execution_count": 16,
   "metadata": {},
   "outputs": [],
   "source": [
    "def sigmoid(x):\n",
    "    s = np.zeros(x.shape)\n",
    "    s[x > 0] = 1. / (1. + np.exp(-x[x > 0])) # avoid overflow\n",
    "    s[x <= 0] = np.exp(x[x <= 0]) / (np.exp(x[x <= 0]) + 1) # avoid underflow\n",
    "    return s\n",
    "\n",
    "def cost(w, x, y):\n",
    "    \"\"\" The cost function for logistic regression \"\"\"\n",
    "    h = sigmoid(x @ w)\n",
    "    cost = np.average(-y * np.log(h) - (1 - y) * np.log(1 - h))\n",
    "    return cost\n",
    "\n",
    "def gradient_update(w, x, y):\n",
    "    \"\"\" The gradient update for logistic regression\"\"\"\n",
    "    h = sigmoid(x @ w)\n",
    "    g = (h - y) @ x\n",
    "    g = g / x.shape[0] \n",
    "    return g\n",
    "\n",
    "def gradient_descent(w, x, y, alpha, iterations, print_iterations):\n",
    "    \"\"\" Batch gradient descent algorithm \"\"\"\n",
    "    alpha *= x.shape[0]\n",
    "    for i in range(iterations):\n",
    "        if i % print_iterations == 0:\n",
    "            print('%d) cost: %f' % (i, cost(w, x, y)))\n",
    "        w -= alpha * gradient_update(w, x, y)       \n",
    "    return w\n",
    "\n",
    "def predict(w, x):\n",
    "    \"\"\" Predict whether the label is 0 or 1 using learned logistic regression parameters \"\"\"\n",
    "    h = x @ w\n",
    "    probabilities = sigmoid(h)\n",
    "    predicted = 1 * (h > 0) # converts truth values to 1 or 0\n",
    "    return probabilities, 1 * predicted"
   ]
  },
  {
   "cell_type": "code",
   "execution_count": 17,
   "metadata": {},
   "outputs": [
    {
     "name": "stdout",
     "output_type": "stream",
     "text": [
      "0) cost: 0.980257\n",
      "1000) cost: 0.476621\n",
      "2000) cost: 0.417246\n",
      "3000) cost: 0.381414\n",
      "4000) cost: 0.355580\n",
      "5000) cost: 0.335371\n",
      "6000) cost: 0.318786\n",
      "7000) cost: 0.304740\n",
      "8000) cost: 0.292577\n",
      "9000) cost: 0.281868\n",
      "took 30.56s\n"
     ]
    }
   ],
   "source": [
    "initial_w = np.random.rand(x.shape[1]) - 0.5\n",
    "alpha = 0.00005\n",
    "iterations = 10000\n",
    "print_iterations = 1000\n",
    "start = time()\n",
    "w = gradient_descent(initial_w, x, y, alpha, iterations, print_iterations)\n",
    "print('took %.2fs' % (time() - start))"
   ]
  },
  {
   "cell_type": "code",
   "execution_count": 18,
   "metadata": {},
   "outputs": [
    {
     "name": "stdout",
     "output_type": "stream",
     "text": [
      "accuracy: 89.9245%\n"
     ]
    }
   ],
   "source": [
    "prob, labels = predict(w, x)\n",
    "acc = labels[np.where(labels == y)].size / float(y.size) * 100\n",
    "print('accuracy: %.4f%%' % acc)"
   ]
  },
  {
   "cell_type": "code",
   "execution_count": 19,
   "metadata": {},
   "outputs": [
    {
     "name": "stdout",
     "output_type": "stream",
     "text": [
      "0) cost: 0.912833\n",
      "1000) cost: 0.486686\n",
      "2000) cost: 0.422745\n",
      "3000) cost: 0.384108\n",
      "4000) cost: 0.356291\n",
      "5000) cost: 0.334582\n",
      "6000) cost: 0.316818\n",
      "7000) cost: 0.301819\n",
      "8000) cost: 0.288869\n",
      "9000) cost: 0.277499\n",
      "train acc: 90.5778%\n",
      "val acc: 75.5287%\n",
      "took 22.36s\n",
      "0) cost: 0.816793\n",
      "1000) cost: 0.484767\n",
      "2000) cost: 0.420443\n",
      "3000) cost: 0.381815\n",
      "4000) cost: 0.354089\n",
      "5000) cost: 0.332492\n",
      "6000) cost: 0.314837\n",
      "7000) cost: 0.299934\n",
      "8000) cost: 0.287065\n",
      "9000) cost: 0.275765\n",
      "train acc: 90.8421%\n",
      "val acc: 76.6239%\n",
      "took 23.39s\n",
      "0) cost: 0.902031\n",
      "1000) cost: 0.479834\n",
      "2000) cost: 0.415932\n",
      "3000) cost: 0.377474\n",
      "4000) cost: 0.349852\n",
      "5000) cost: 0.328334\n",
      "6000) cost: 0.310757\n",
      "7000) cost: 0.295942\n",
      "8000) cost: 0.283170\n",
      "9000) cost: 0.271969\n",
      "train acc: 90.8610%\n",
      "val acc: 75.3776%\n",
      "took 24.81s\n",
      "0) cost: 0.936558\n",
      "1000) cost: 0.479576\n",
      "2000) cost: 0.415974\n",
      "3000) cost: 0.377646\n",
      "4000) cost: 0.350050\n",
      "5000) cost: 0.328479\n",
      "6000) cost: 0.310803\n",
      "7000) cost: 0.295866\n",
      "8000) cost: 0.282963\n",
      "9000) cost: 0.271635\n",
      "train acc: 90.9649%\n",
      "val acc: 74.0181%\n",
      "took 23.85s\n",
      "0) cost: 0.878525\n",
      "1000) cost: 0.486294\n",
      "2000) cost: 0.420619\n",
      "3000) cost: 0.381466\n",
      "4000) cost: 0.353519\n",
      "5000) cost: 0.331816\n",
      "6000) cost: 0.314113\n",
      "7000) cost: 0.299196\n",
      "8000) cost: 0.286334\n",
      "9000) cost: 0.275051\n",
      "train acc: 90.6344%\n",
      "val acc: 75.1888%\n",
      "took 23.43s\n",
      "avg acc: 75.3474%\n"
     ]
    }
   ],
   "source": [
    "# k-fold cross validation\n",
    "k = 5\n",
    "chunk_size = x.shape[0] // k\n",
    "alpha = 0.00005\n",
    "iterations = 10000\n",
    "print_iterations = 1000\n",
    "total_acc = 0\n",
    "for i in range(k):\n",
    "    start = time()\n",
    "    initial_w = np.random.rand(x.shape[1]) - 0.5\n",
    "    x_train = vstack((x[:i * chunk_size], x[(i + 1) * chunk_size:]))\n",
    "    y_train = np.concatenate((y[:i * chunk_size], y[(i + 1) * chunk_size:]))\n",
    "    x_val = x[i * chunk_size:(i + 1) * chunk_size]\n",
    "    y_val = y[i * chunk_size:(i + 1) * chunk_size]\n",
    "    w = gradient_descent(initial_w.copy(), x_train, y_train, alpha, iterations, print_iterations)\n",
    "    _, labels = predict(w, x_train)\n",
    "    train_acc = labels[np.where(labels == y_train)].size / float(y_train.size) * 100\n",
    "    print('train acc: %.4f%%' % train_acc)\n",
    "    _, labels = predict(w, x_val)\n",
    "    val_acc = labels[np.where(labels == y_val)].size / float(y_val.size) * 100\n",
    "    total_acc += val_acc\n",
    "    print('val acc: %.4f%%' % val_acc)\n",
    "    print('took %.2fs' % (time() - start))\n",
    "print('avg acc: %.4f%%' % (total_acc / k))"
   ]
  },
  {
   "cell_type": "code",
   "execution_count": null,
   "metadata": {},
   "outputs": [],
   "source": []
  }
 ],
 "metadata": {
  "kernelspec": {
   "display_name": "Python 3",
   "language": "python",
   "name": "python3"
  },
  "language_info": {
   "codemirror_mode": {
    "name": "ipython",
    "version": 3
   },
   "file_extension": ".py",
   "mimetype": "text/x-python",
   "name": "python",
   "nbconvert_exporter": "python",
   "pygments_lexer": "ipython3",
   "version": "3.7.4"
  }
 },
 "nbformat": 4,
 "nbformat_minor": 2
}
